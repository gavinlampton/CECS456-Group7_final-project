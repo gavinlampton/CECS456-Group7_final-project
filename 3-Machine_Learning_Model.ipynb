{
  "nbformat": 4,
  "nbformat_minor": 0,
  "metadata": {
    "colab": {
      "provenance": []
    },
    "kernelspec": {
      "name": "python3",
      "display_name": "Python 3"
    },
    "language_info": {
      "name": "python"
    }
  },
  "cells": [
    {
      "cell_type": "code",
      "source": [
        "import pandas as pd\n",
        "import numpy as np\n",
        "\n",
        "raw_df = pd.read_excel(\"./Real estate valuation data set.xlsx\")\n",
        "del raw_df['No']\n",
        "del raw_df['X1 transaction date']\n",
        "\n",
        "X=raw_df.iloc[:,:-1].values\n",
        "y=raw_df.iloc[:,-1].values"
      ],
      "metadata": {
        "id": "nU5yKceL6Avy"
      },
      "execution_count": 62,
      "outputs": []
    },
    {
      "cell_type": "code",
      "source": [
        "from sklearn.model_selection import train_test_split\n",
        "X_train, X_test, y_train, y_test = train_test_split(X,y,test_size=0.2, random_state=0)"
      ],
      "metadata": {
        "id": "7BNxnm5mywjq"
      },
      "execution_count": 63,
      "outputs": []
    },
    {
      "cell_type": "code",
      "execution_count": 64,
      "metadata": {
        "id": "je68g117X_rj"
      },
      "outputs": [],
      "source": [
        "from sklearn.preprocessing import StandardScaler\n",
        "std_sc=StandardScaler()\n",
        "\n",
        "std_X_train = std_sc.fit_transform(X_train)\n",
        "std_X_test = std_sc.transform(X_test)"
      ]
    },
    {
      "cell_type": "code",
      "source": [
        "from sklearn.decomposition import PCA\n",
        "\n",
        "std_pca = PCA(n_components=2)\n",
        "pca_X_train = std_pca.fit_transform(std_X_train)\n",
        "pca_X_test = std_pca.transform(std_X_test)\n",
        "print('Variance with 2 columns and Standard Scaler:', sum(std_pca.explained_variance_ratio_ * 100))"
      ],
      "metadata": {
        "id": "fanXvmrY5IUu",
        "colab": {
          "base_uri": "https://localhost:8080/"
        },
        "outputId": "a117109e-a5a3-40fb-c1b1-7b13961fda6b"
      },
      "execution_count": 65,
      "outputs": [
        {
          "output_type": "stream",
          "name": "stdout",
          "text": [
            "Variance with 2 columns and Standard Scaler: 73.49063042239908\n"
          ]
        }
      ]
    },
    {
      "cell_type": "code",
      "source": [
        "from sklearn.ensemble import RandomForestRegressor\n",
        "from sklearn.linear_model import LinearRegression\n",
        "from sklearn.metrics import r2_score, mean_squared_error, mean_absolute_error\n",
        "\n",
        "rf = RandomForestRegressor(n_estimators=30, random_state=6, max_depth=20)\n",
        "rf.fit(X_train, y_train)\n",
        "y_pred = rf.predict(X_test)\n",
        "rf_mae = mean_absolute_error(y_test, y_pred)\n",
        "rf_mse = mean_squared_error(y_test, y_pred)\n",
        "rf_r2 = r2_score(y_test, y_pred)\n",
        "print(rf_r2)\n",
        "print(rf_mae)\n",
        "print(rf_mse)"
      ],
      "metadata": {
        "id": "H5WJaSURnlQk",
        "colab": {
          "base_uri": "https://localhost:8080/"
        },
        "outputId": "596d6e28-462c-4205-c5cc-89ec3ce6ce69"
      },
      "execution_count": 66,
      "outputs": [
        {
          "output_type": "stream",
          "name": "stdout",
          "text": [
            "0.713716718427643\n",
            "5.004758940524002\n",
            "49.727123424372515\n"
          ]
        }
      ]
    },
    {
      "cell_type": "code",
      "source": [
        "from sklearn.linear_model import Ridge\n",
        "from sklearn.linear_model import Lasso\n",
        "from sklearn.linear_model import ElasticNet\n",
        "from sklearn.svm import SVR\n",
        "\n",
        "alphas = [0.1, 0.5, 1, 5, 10]\n",
        "linear_models = {\n",
        "    'linear_regression' : {\n",
        "        'model': LinearRegression(),\n",
        "        'params': {},\n",
        "        'random_state': [0]\n",
        "    }, \n",
        "    'ridge': {\n",
        "        'model': Ridge(),\n",
        "        'params': {\n",
        "            'alpha': alphas,\n",
        "            'random_state': [0]\n",
        "        }\n",
        "    }, \n",
        "    'lasso': {\n",
        "        'model': Lasso(),\n",
        "        'params': {\n",
        "            'alpha': alphas,\n",
        "            'random_state': [0]\n",
        "        }\n",
        "    },\n",
        "    'elasticnet': {\n",
        "        'model': ElasticNet(),\n",
        "        'params': {\n",
        "            'alpha': alphas,\n",
        "            'random_state': [0]\n",
        "        }\n",
        "    }\n",
        "}"
      ],
      "metadata": {
        "id": "mixiOp2lzUHG"
      },
      "execution_count": 67,
      "outputs": []
    },
    {
      "cell_type": "code",
      "source": [
        "from sklearn.model_selection import GridSearchCV\n",
        "\n",
        "standard_scores = []\n",
        "pca_scores = []\n",
        "for model, options in linear_models.items():\n",
        "  gs_scaled = GridSearchCV(options['model'], options['params'], cv=5)\n",
        "  gs_scaled.fit(std_X_train, y_train)\n",
        "  standard_scores.append({\n",
        "      'model': model,\n",
        "      'best_score': gs_scaled.best_score_,\n",
        "      'best_params': gs_scaled.best_params_\n",
        "  })\n",
        "  gs_pca = GridSearchCV(options['model'], options['params'], cv=5)\n",
        "  gs_pca.fit(pca_X_train, y_train)\n",
        "  pca_scores.append({\n",
        "      'model': model,\n",
        "      'best_score': gs_pca.best_score_,\n",
        "      'best_params': gs_pca.best_params_\n",
        "  })"
      ],
      "metadata": {
        "id": "p1EnITkGJpEf"
      },
      "execution_count": 68,
      "outputs": []
    },
    {
      "cell_type": "code",
      "source": [
        "print(gs_scaled.best_estimator_)\n",
        "y_pred_scale = gs_scaled.predict(std_X_test)\n",
        "print(r2_score(y_test, y_pred_scale))\n",
        "print(mean_absolute_error(y_test, y_pred_scale))\n",
        "print(mean_squared_error(y_test, y_pred_scale))"
      ],
      "metadata": {
        "colab": {
          "base_uri": "https://localhost:8080/"
        },
        "id": "4yp13p2nlHMM",
        "outputId": "7286edac-f8ab-40b2-d57a-da57ed0529f7"
      },
      "execution_count": 78,
      "outputs": [
        {
          "output_type": "stream",
          "name": "stdout",
          "text": [
            "ElasticNet(alpha=0.1, random_state=0)\n",
            "0.637839655928244\n",
            "5.7889050050091\n",
            "62.906894283722494\n"
          ]
        }
      ]
    },
    {
      "cell_type": "code",
      "source": [
        "print(gs_scaled.best_estimator_)\n",
        "y_pred_scale = gs_pca.predict(pca_X_test)\n",
        "print(r2_score(y_test, y_pred_scale))\n",
        "print(mean_absolute_error(y_test, y_pred_scale))\n",
        "print(mean_squared_error(y_test, y_pred_scale))"
      ],
      "metadata": {
        "colab": {
          "base_uri": "https://localhost:8080/"
        },
        "id": "efXWlw0krZUj",
        "outputId": "062c6cde-a98f-4a69-d1c4-4254d0e429fa"
      },
      "execution_count": 79,
      "outputs": [
        {
          "output_type": "stream",
          "name": "stdout",
          "text": [
            "ElasticNet(alpha=0.1, random_state=0)\n",
            "0.5984322965842925\n",
            "6.356587986277489\n",
            "69.75191370351696\n"
          ]
        }
      ]
    },
    {
      "cell_type": "code",
      "source": [
        "gs_svr_std = GridSearchCV(estimator=SVR(), \n",
        "             param_grid = \n",
        "             {\n",
        "                'C': [1, 10, 20],\n",
        "                'kernel': ['linear', 'rbf', 'poly'],\n",
        "                'gamma': ['scale', 'auto']\n",
        "            }, cv=5)\n",
        "\n",
        "gs_svr_std.fit(std_X_train, y_train)\n",
        "\n",
        "gs_svr_pca = GridSearchCV(estimator=SVR(), \n",
        "             param_grid = \n",
        "             {\n",
        "                'C': [1, 10, 20],\n",
        "                'kernel': ['linear', 'rbf', 'poly'],\n",
        "                'gamma': ['scale', 'auto']\n",
        "            }, cv=5)\n",
        "\n",
        "gs_svr_pca.fit(pca_X_train, y_train)"
      ],
      "metadata": {
        "colab": {
          "base_uri": "https://localhost:8080/",
          "height": 117
        },
        "id": "5pFgQadxscRB",
        "outputId": "f9ff9a50-c47f-47e4-db27-7461563b26c4"
      },
      "execution_count": 73,
      "outputs": [
        {
          "output_type": "execute_result",
          "data": {
            "text/plain": [
              "GridSearchCV(cv=5, estimator=SVR(),\n",
              "             param_grid={'C': [1, 10, 20], 'gamma': ['scale', 'auto'],\n",
              "                         'kernel': ['linear', 'rbf', 'poly']})"
            ],
            "text/html": [
              "<style>#sk-container-id-2 {color: black;background-color: white;}#sk-container-id-2 pre{padding: 0;}#sk-container-id-2 div.sk-toggleable {background-color: white;}#sk-container-id-2 label.sk-toggleable__label {cursor: pointer;display: block;width: 100%;margin-bottom: 0;padding: 0.3em;box-sizing: border-box;text-align: center;}#sk-container-id-2 label.sk-toggleable__label-arrow:before {content: \"▸\";float: left;margin-right: 0.25em;color: #696969;}#sk-container-id-2 label.sk-toggleable__label-arrow:hover:before {color: black;}#sk-container-id-2 div.sk-estimator:hover label.sk-toggleable__label-arrow:before {color: black;}#sk-container-id-2 div.sk-toggleable__content {max-height: 0;max-width: 0;overflow: hidden;text-align: left;background-color: #f0f8ff;}#sk-container-id-2 div.sk-toggleable__content pre {margin: 0.2em;color: black;border-radius: 0.25em;background-color: #f0f8ff;}#sk-container-id-2 input.sk-toggleable__control:checked~div.sk-toggleable__content {max-height: 200px;max-width: 100%;overflow: auto;}#sk-container-id-2 input.sk-toggleable__control:checked~label.sk-toggleable__label-arrow:before {content: \"▾\";}#sk-container-id-2 div.sk-estimator input.sk-toggleable__control:checked~label.sk-toggleable__label {background-color: #d4ebff;}#sk-container-id-2 div.sk-label input.sk-toggleable__control:checked~label.sk-toggleable__label {background-color: #d4ebff;}#sk-container-id-2 input.sk-hidden--visually {border: 0;clip: rect(1px 1px 1px 1px);clip: rect(1px, 1px, 1px, 1px);height: 1px;margin: -1px;overflow: hidden;padding: 0;position: absolute;width: 1px;}#sk-container-id-2 div.sk-estimator {font-family: monospace;background-color: #f0f8ff;border: 1px dotted black;border-radius: 0.25em;box-sizing: border-box;margin-bottom: 0.5em;}#sk-container-id-2 div.sk-estimator:hover {background-color: #d4ebff;}#sk-container-id-2 div.sk-parallel-item::after {content: \"\";width: 100%;border-bottom: 1px solid gray;flex-grow: 1;}#sk-container-id-2 div.sk-label:hover label.sk-toggleable__label {background-color: #d4ebff;}#sk-container-id-2 div.sk-serial::before {content: \"\";position: absolute;border-left: 1px solid gray;box-sizing: border-box;top: 0;bottom: 0;left: 50%;z-index: 0;}#sk-container-id-2 div.sk-serial {display: flex;flex-direction: column;align-items: center;background-color: white;padding-right: 0.2em;padding-left: 0.2em;position: relative;}#sk-container-id-2 div.sk-item {position: relative;z-index: 1;}#sk-container-id-2 div.sk-parallel {display: flex;align-items: stretch;justify-content: center;background-color: white;position: relative;}#sk-container-id-2 div.sk-item::before, #sk-container-id-2 div.sk-parallel-item::before {content: \"\";position: absolute;border-left: 1px solid gray;box-sizing: border-box;top: 0;bottom: 0;left: 50%;z-index: -1;}#sk-container-id-2 div.sk-parallel-item {display: flex;flex-direction: column;z-index: 1;position: relative;background-color: white;}#sk-container-id-2 div.sk-parallel-item:first-child::after {align-self: flex-end;width: 50%;}#sk-container-id-2 div.sk-parallel-item:last-child::after {align-self: flex-start;width: 50%;}#sk-container-id-2 div.sk-parallel-item:only-child::after {width: 0;}#sk-container-id-2 div.sk-dashed-wrapped {border: 1px dashed gray;margin: 0 0.4em 0.5em 0.4em;box-sizing: border-box;padding-bottom: 0.4em;background-color: white;}#sk-container-id-2 div.sk-label label {font-family: monospace;font-weight: bold;display: inline-block;line-height: 1.2em;}#sk-container-id-2 div.sk-label-container {text-align: center;}#sk-container-id-2 div.sk-container {/* jupyter's `normalize.less` sets `[hidden] { display: none; }` but bootstrap.min.css set `[hidden] { display: none !important; }` so we also need the `!important` here to be able to override the default hidden behavior on the sphinx rendered scikit-learn.org. See: https://github.com/scikit-learn/scikit-learn/issues/21755 */display: inline-block !important;position: relative;}#sk-container-id-2 div.sk-text-repr-fallback {display: none;}</style><div id=\"sk-container-id-2\" class=\"sk-top-container\"><div class=\"sk-text-repr-fallback\"><pre>GridSearchCV(cv=5, estimator=SVR(),\n",
              "             param_grid={&#x27;C&#x27;: [1, 10, 20], &#x27;gamma&#x27;: [&#x27;scale&#x27;, &#x27;auto&#x27;],\n",
              "                         &#x27;kernel&#x27;: [&#x27;linear&#x27;, &#x27;rbf&#x27;, &#x27;poly&#x27;]})</pre><b>In a Jupyter environment, please rerun this cell to show the HTML representation or trust the notebook. <br />On GitHub, the HTML representation is unable to render, please try loading this page with nbviewer.org.</b></div><div class=\"sk-container\" hidden><div class=\"sk-item sk-dashed-wrapped\"><div class=\"sk-label-container\"><div class=\"sk-label sk-toggleable\"><input class=\"sk-toggleable__control sk-hidden--visually\" id=\"sk-estimator-id-4\" type=\"checkbox\" ><label for=\"sk-estimator-id-4\" class=\"sk-toggleable__label sk-toggleable__label-arrow\">GridSearchCV</label><div class=\"sk-toggleable__content\"><pre>GridSearchCV(cv=5, estimator=SVR(),\n",
              "             param_grid={&#x27;C&#x27;: [1, 10, 20], &#x27;gamma&#x27;: [&#x27;scale&#x27;, &#x27;auto&#x27;],\n",
              "                         &#x27;kernel&#x27;: [&#x27;linear&#x27;, &#x27;rbf&#x27;, &#x27;poly&#x27;]})</pre></div></div></div><div class=\"sk-parallel\"><div class=\"sk-parallel-item\"><div class=\"sk-item\"><div class=\"sk-label-container\"><div class=\"sk-label sk-toggleable\"><input class=\"sk-toggleable__control sk-hidden--visually\" id=\"sk-estimator-id-5\" type=\"checkbox\" ><label for=\"sk-estimator-id-5\" class=\"sk-toggleable__label sk-toggleable__label-arrow\">estimator: SVR</label><div class=\"sk-toggleable__content\"><pre>SVR()</pre></div></div></div><div class=\"sk-serial\"><div class=\"sk-item\"><div class=\"sk-estimator sk-toggleable\"><input class=\"sk-toggleable__control sk-hidden--visually\" id=\"sk-estimator-id-6\" type=\"checkbox\" ><label for=\"sk-estimator-id-6\" class=\"sk-toggleable__label sk-toggleable__label-arrow\">SVR</label><div class=\"sk-toggleable__content\"><pre>SVR()</pre></div></div></div></div></div></div></div></div></div></div>"
            ]
          },
          "metadata": {},
          "execution_count": 73
        }
      ]
    },
    {
      "cell_type": "code",
      "source": [
        "print(gs_svr_std.best_score_)\n",
        "print(gs_svr_pca.best_score_)"
      ],
      "metadata": {
        "colab": {
          "base_uri": "https://localhost:8080/"
        },
        "id": "GgtgSD9-t4AU",
        "outputId": "b92697f5-8dab-4127-afae-2f43e108a98e"
      },
      "execution_count": 74,
      "outputs": [
        {
          "output_type": "stream",
          "name": "stdout",
          "text": [
            "0.6630174527850374\n",
            "0.5870099798299374\n"
          ]
        }
      ]
    },
    {
      "cell_type": "code",
      "source": [
        "print(gs_svr_std.best_estimator_)\n",
        "y_pred_scale = gs_svr_std.predict(std_X_test)\n",
        "print(r2_score(y_test, y_pred_scale))\n",
        "print(mean_absolute_error(y_test, y_pred_scale))\n",
        "print(mean_squared_error(y_test, y_pred_scale))"
      ],
      "metadata": {
        "colab": {
          "base_uri": "https://localhost:8080/"
        },
        "id": "wkVH8DlKwnnk",
        "outputId": "3872a716-8733-449c-9571-e6c3ee023807"
      },
      "execution_count": 80,
      "outputs": [
        {
          "output_type": "stream",
          "name": "stdout",
          "text": [
            "SVR(C=20, gamma='auto')\n",
            "0.713099337024311\n",
            "5.1021199953086915\n",
            "49.83436196472589\n"
          ]
        }
      ]
    },
    {
      "cell_type": "code",
      "source": [
        "print(gs_svr_pca.best_estimator_)\n",
        "y_pred_scale = gs_svr_pca.predict(pca_X_test)\n",
        "print(r2_score(y_test, y_pred_scale))\n",
        "print(mean_absolute_error(y_test, y_pred_scale))\n",
        "print(mean_squared_error(y_test, y_pred_scale))"
      ],
      "metadata": {
        "colab": {
          "base_uri": "https://localhost:8080/"
        },
        "id": "qDnpP80IwneL",
        "outputId": "fe7354b2-8000-40a5-9690-24df844c5822"
      },
      "execution_count": 81,
      "outputs": [
        {
          "output_type": "stream",
          "name": "stdout",
          "text": [
            "SVR(C=10)\n",
            "0.6279564233955536\n",
            "5.703751462323295\n",
            "64.6236020191012\n"
          ]
        }
      ]
    },
    {
      "cell_type": "code",
      "source": [
        "gs_rf_std = GridSearchCV(estimator=RandomForestRegressor(), \n",
        "             param_grid = \n",
        "             {\n",
        "              'n_estimators': [10, 20, 30, 40, 50, 100, 150],\n",
        "              'max_depth': [20, 40, 60],\n",
        "              'random_state': [0],\n",
        "              'min_samples_split': [2, 5, 10],\n",
        "              'min_samples_leaf': [1, 2, 4]\n",
        "             }, cv=5)\n",
        "gs_rf_std.fit(std_X_train, y_train)\n",
        "\n",
        "gs_rf_pca = GridSearchCV(estimator=RandomForestRegressor(), \n",
        "             param_grid = \n",
        "             {\n",
        "              'n_estimators': [10, 20, 30, 40, 50, 100, 150],\n",
        "              'max_depth': [20, 40, 60],\n",
        "              'random_state': [0],\n",
        "              'min_samples_split': [2, 5, 10],\n",
        "              'min_samples_leaf': [1, 2, 4]\n",
        "             }, cv=5)\n",
        "gs_rf_pca.fit(pca_X_train, y_train)"
      ],
      "metadata": {
        "colab": {
          "base_uri": "https://localhost:8080/",
          "height": 117
        },
        "id": "4cP0Z_IuthzZ",
        "outputId": "832cb9ed-e99b-49f2-fa51-094df1cb6fe3"
      },
      "execution_count": 75,
      "outputs": [
        {
          "output_type": "execute_result",
          "data": {
            "text/plain": [
              "GridSearchCV(cv=5, estimator=RandomForestRegressor(),\n",
              "             param_grid={'max_depth': [20, 40, 60],\n",
              "                         'min_samples_leaf': [1, 2, 4],\n",
              "                         'min_samples_split': [2, 5, 10],\n",
              "                         'n_estimators': [10, 20, 30, 40, 50, 100, 150],\n",
              "                         'random_state': [0]})"
            ],
            "text/html": [
              "<style>#sk-container-id-3 {color: black;background-color: white;}#sk-container-id-3 pre{padding: 0;}#sk-container-id-3 div.sk-toggleable {background-color: white;}#sk-container-id-3 label.sk-toggleable__label {cursor: pointer;display: block;width: 100%;margin-bottom: 0;padding: 0.3em;box-sizing: border-box;text-align: center;}#sk-container-id-3 label.sk-toggleable__label-arrow:before {content: \"▸\";float: left;margin-right: 0.25em;color: #696969;}#sk-container-id-3 label.sk-toggleable__label-arrow:hover:before {color: black;}#sk-container-id-3 div.sk-estimator:hover label.sk-toggleable__label-arrow:before {color: black;}#sk-container-id-3 div.sk-toggleable__content {max-height: 0;max-width: 0;overflow: hidden;text-align: left;background-color: #f0f8ff;}#sk-container-id-3 div.sk-toggleable__content pre {margin: 0.2em;color: black;border-radius: 0.25em;background-color: #f0f8ff;}#sk-container-id-3 input.sk-toggleable__control:checked~div.sk-toggleable__content {max-height: 200px;max-width: 100%;overflow: auto;}#sk-container-id-3 input.sk-toggleable__control:checked~label.sk-toggleable__label-arrow:before {content: \"▾\";}#sk-container-id-3 div.sk-estimator input.sk-toggleable__control:checked~label.sk-toggleable__label {background-color: #d4ebff;}#sk-container-id-3 div.sk-label input.sk-toggleable__control:checked~label.sk-toggleable__label {background-color: #d4ebff;}#sk-container-id-3 input.sk-hidden--visually {border: 0;clip: rect(1px 1px 1px 1px);clip: rect(1px, 1px, 1px, 1px);height: 1px;margin: -1px;overflow: hidden;padding: 0;position: absolute;width: 1px;}#sk-container-id-3 div.sk-estimator {font-family: monospace;background-color: #f0f8ff;border: 1px dotted black;border-radius: 0.25em;box-sizing: border-box;margin-bottom: 0.5em;}#sk-container-id-3 div.sk-estimator:hover {background-color: #d4ebff;}#sk-container-id-3 div.sk-parallel-item::after {content: \"\";width: 100%;border-bottom: 1px solid gray;flex-grow: 1;}#sk-container-id-3 div.sk-label:hover label.sk-toggleable__label {background-color: #d4ebff;}#sk-container-id-3 div.sk-serial::before {content: \"\";position: absolute;border-left: 1px solid gray;box-sizing: border-box;top: 0;bottom: 0;left: 50%;z-index: 0;}#sk-container-id-3 div.sk-serial {display: flex;flex-direction: column;align-items: center;background-color: white;padding-right: 0.2em;padding-left: 0.2em;position: relative;}#sk-container-id-3 div.sk-item {position: relative;z-index: 1;}#sk-container-id-3 div.sk-parallel {display: flex;align-items: stretch;justify-content: center;background-color: white;position: relative;}#sk-container-id-3 div.sk-item::before, #sk-container-id-3 div.sk-parallel-item::before {content: \"\";position: absolute;border-left: 1px solid gray;box-sizing: border-box;top: 0;bottom: 0;left: 50%;z-index: -1;}#sk-container-id-3 div.sk-parallel-item {display: flex;flex-direction: column;z-index: 1;position: relative;background-color: white;}#sk-container-id-3 div.sk-parallel-item:first-child::after {align-self: flex-end;width: 50%;}#sk-container-id-3 div.sk-parallel-item:last-child::after {align-self: flex-start;width: 50%;}#sk-container-id-3 div.sk-parallel-item:only-child::after {width: 0;}#sk-container-id-3 div.sk-dashed-wrapped {border: 1px dashed gray;margin: 0 0.4em 0.5em 0.4em;box-sizing: border-box;padding-bottom: 0.4em;background-color: white;}#sk-container-id-3 div.sk-label label {font-family: monospace;font-weight: bold;display: inline-block;line-height: 1.2em;}#sk-container-id-3 div.sk-label-container {text-align: center;}#sk-container-id-3 div.sk-container {/* jupyter's `normalize.less` sets `[hidden] { display: none; }` but bootstrap.min.css set `[hidden] { display: none !important; }` so we also need the `!important` here to be able to override the default hidden behavior on the sphinx rendered scikit-learn.org. See: https://github.com/scikit-learn/scikit-learn/issues/21755 */display: inline-block !important;position: relative;}#sk-container-id-3 div.sk-text-repr-fallback {display: none;}</style><div id=\"sk-container-id-3\" class=\"sk-top-container\"><div class=\"sk-text-repr-fallback\"><pre>GridSearchCV(cv=5, estimator=RandomForestRegressor(),\n",
              "             param_grid={&#x27;max_depth&#x27;: [20, 40, 60],\n",
              "                         &#x27;min_samples_leaf&#x27;: [1, 2, 4],\n",
              "                         &#x27;min_samples_split&#x27;: [2, 5, 10],\n",
              "                         &#x27;n_estimators&#x27;: [10, 20, 30, 40, 50, 100, 150],\n",
              "                         &#x27;random_state&#x27;: [0]})</pre><b>In a Jupyter environment, please rerun this cell to show the HTML representation or trust the notebook. <br />On GitHub, the HTML representation is unable to render, please try loading this page with nbviewer.org.</b></div><div class=\"sk-container\" hidden><div class=\"sk-item sk-dashed-wrapped\"><div class=\"sk-label-container\"><div class=\"sk-label sk-toggleable\"><input class=\"sk-toggleable__control sk-hidden--visually\" id=\"sk-estimator-id-7\" type=\"checkbox\" ><label for=\"sk-estimator-id-7\" class=\"sk-toggleable__label sk-toggleable__label-arrow\">GridSearchCV</label><div class=\"sk-toggleable__content\"><pre>GridSearchCV(cv=5, estimator=RandomForestRegressor(),\n",
              "             param_grid={&#x27;max_depth&#x27;: [20, 40, 60],\n",
              "                         &#x27;min_samples_leaf&#x27;: [1, 2, 4],\n",
              "                         &#x27;min_samples_split&#x27;: [2, 5, 10],\n",
              "                         &#x27;n_estimators&#x27;: [10, 20, 30, 40, 50, 100, 150],\n",
              "                         &#x27;random_state&#x27;: [0]})</pre></div></div></div><div class=\"sk-parallel\"><div class=\"sk-parallel-item\"><div class=\"sk-item\"><div class=\"sk-label-container\"><div class=\"sk-label sk-toggleable\"><input class=\"sk-toggleable__control sk-hidden--visually\" id=\"sk-estimator-id-8\" type=\"checkbox\" ><label for=\"sk-estimator-id-8\" class=\"sk-toggleable__label sk-toggleable__label-arrow\">estimator: RandomForestRegressor</label><div class=\"sk-toggleable__content\"><pre>RandomForestRegressor()</pre></div></div></div><div class=\"sk-serial\"><div class=\"sk-item\"><div class=\"sk-estimator sk-toggleable\"><input class=\"sk-toggleable__control sk-hidden--visually\" id=\"sk-estimator-id-9\" type=\"checkbox\" ><label for=\"sk-estimator-id-9\" class=\"sk-toggleable__label sk-toggleable__label-arrow\">RandomForestRegressor</label><div class=\"sk-toggleable__content\"><pre>RandomForestRegressor()</pre></div></div></div></div></div></div></div></div></div></div>"
            ]
          },
          "metadata": {},
          "execution_count": 75
        }
      ]
    },
    {
      "cell_type": "code",
      "source": [
        "print(gs_rf_std.best_score_)\n",
        "print(gs_rf_pca.best_score_)"
      ],
      "metadata": {
        "colab": {
          "base_uri": "https://localhost:8080/"
        },
        "id": "_BZvprjouw_1",
        "outputId": "20d6b335-b9bc-4850-c41b-d9f2471f0650"
      },
      "execution_count": 84,
      "outputs": [
        {
          "output_type": "stream",
          "name": "stdout",
          "text": [
            "0.691115704798381\n",
            "0.6406131686184092\n"
          ]
        }
      ]
    },
    {
      "cell_type": "code",
      "source": [
        "print(gs_rf_std.best_estimator_)\n",
        "y_pred_scale = gs_rf_std.predict(std_X_test)\n",
        "print(r2_score(y_test, y_pred_scale))\n",
        "print(mean_absolute_error(y_test, y_pred_scale))\n",
        "print(mean_squared_error(y_test, y_pred_scale))"
      ],
      "metadata": {
        "colab": {
          "base_uri": "https://localhost:8080/"
        },
        "id": "IPcqDJSxw4vf",
        "outputId": "b2ae5688-de2f-4e83-8c48-f2258d566c08"
      },
      "execution_count": 83,
      "outputs": [
        {
          "output_type": "stream",
          "name": "stdout",
          "text": [
            "RandomForestRegressor(max_depth=20, min_samples_leaf=4, n_estimators=150,\n",
            "                      random_state=0)\n",
            "0.7537158243645968\n",
            "4.698451389302878\n",
            "42.77931820547523\n"
          ]
        }
      ]
    },
    {
      "cell_type": "code",
      "source": [
        "print(gs_rf_pca.best_estimator_)\n",
        "y_pred_scale = gs_rf_pca.predict(pca_X_test)\n",
        "print(r2_score(y_test, y_pred_scale))\n",
        "print(mean_absolute_error(y_test, y_pred_scale))\n",
        "print(mean_squared_error(y_test, y_pred_scale))"
      ],
      "metadata": {
        "colab": {
          "base_uri": "https://localhost:8080/"
        },
        "id": "IvtH7ucDw_sf",
        "outputId": "e50d4689-2ca8-4d2f-fff4-c444bb8a2fdd"
      },
      "execution_count": 85,
      "outputs": [
        {
          "output_type": "stream",
          "name": "stdout",
          "text": [
            "RandomForestRegressor(max_depth=20, min_samples_leaf=4, n_estimators=150,\n",
            "                      random_state=0)\n",
            "0.6618173792485824\n",
            "5.364156922785072\n",
            "58.74198741093129\n"
          ]
        }
      ]
    },
    {
      "cell_type": "code",
      "source": [],
      "metadata": {
        "id": "8UdjWq6jxGGv"
      },
      "execution_count": null,
      "outputs": []
    }
  ]
}