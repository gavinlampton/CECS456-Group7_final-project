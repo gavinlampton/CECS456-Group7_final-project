{
  "nbformat": 4,
  "nbformat_minor": 0,
  "metadata": {
    "colab": {
      "provenance": []
    },
    "kernelspec": {
      "name": "python3",
      "display_name": "Python 3"
    },
    "language_info": {
      "name": "python"
    }
  },
  "cells": [
    {
      "cell_type": "markdown",
      "source": [
        "## Machine Learning Model Lasso L1 and Ridge L2"
      ],
      "metadata": {
        "id": "ni2iE02k_dpg"
      }
    },
    {
      "cell_type": "markdown",
      "source": [
        "# Importing the Libraries"
      ],
      "metadata": {
        "id": "sVgL4pUn_rmj"
      }
    },
    {
      "cell_type": "code",
      "execution_count": null,
      "metadata": {
        "id": "QJBw45gP_SLm"
      },
      "outputs": [],
      "source": [
        "import numpy as np\n",
        "import matplotlib.pyplot as plt\n",
        "import pandas as pd\n",
        "from sklearn.metrics import r2_score\n",
        "from sklearn.metrics import mean_absolute_error\n",
        "from sklearn.metrics import mean_squared_error"
      ]
    },
    {
      "cell_type": "markdown",
      "source": [
        "# Importing the Dataset"
      ],
      "metadata": {
        "id": "doAAd2Fz_8u_"
      }
    },
    {
      "cell_type": "code",
      "source": [
        "dataset = pd.read_excel('./Real estate valuation data set.xlsx')\n",
        "dataset.head()\n",
        "X = dataset.iloc[:,:-1].values\n",
        "y = dataset.iloc[:,-1].values"
      ],
      "metadata": {
        "id": "tDI6uoAVACV7"
      },
      "execution_count": null,
      "outputs": []
    },
    {
      "cell_type": "markdown",
      "source": [
        "# Splitting the Sataset into the Training Set and Test Set"
      ],
      "metadata": {
        "id": "Dd5JYcSDAZpP"
      }
    },
    {
      "cell_type": "code",
      "source": [
        "from sklearn.model_selection import train_test_split\n",
        "X_train, X_test, y_train, y_test = train_test_split(X, y, test_size = 1/3, random_state = 0)"
      ],
      "metadata": {
        "id": "aA1cA6P6Adtx"
      },
      "execution_count": null,
      "outputs": []
    },
    {
      "cell_type": "markdown",
      "source": [
        "# Training the Simple L1 Regression model on the Training set"
      ],
      "metadata": {
        "id": "tBrfqH9LAg5K"
      }
    },
    {
      "cell_type": "code",
      "source": [
        "from sklearn import linear_model\n",
        "L1 = linear_model.Lasso()\n",
        "L1.fit(X_train,y_train)"
      ],
      "metadata": {
        "id": "VoHyH4UyAkNw"
      },
      "execution_count": null,
      "outputs": []
    },
    {
      "cell_type": "markdown",
      "source": [
        "# Training the Simple L2 Regression Model on the Training Set"
      ],
      "metadata": {
        "id": "BNodyrDOAnky"
      }
    },
    {
      "cell_type": "code",
      "source": [
        "L2 = linear_model.Ridge()\n",
        "L2.fit(X_train, y_train)"
      ],
      "metadata": {
        "id": "ctzGAqTiAq7u"
      },
      "execution_count": null,
      "outputs": []
    },
    {
      "cell_type": "markdown",
      "source": [
        "# Predicting the Test Set Results"
      ],
      "metadata": {
        "id": "o1jI0iI4Auac"
      }
    },
    {
      "cell_type": "code",
      "source": [
        "y1_pred = L1.predict(X_test)\n",
        "y2_pred = L2.predict(X_test)"
      ],
      "metadata": {
        "id": "RPiCXfAuA4oQ"
      },
      "execution_count": null,
      "outputs": []
    },
    {
      "cell_type": "markdown",
      "source": [
        "# Visualising the Training Set Results"
      ],
      "metadata": {
        "id": "4A-yDNODBJcO"
      }
    },
    {
      "cell_type": "code",
      "source": [
        "plt.scatter(X_train, y_train, color = 'red')\n",
        "plt.plot(X_train, L1.predict(X_train), color = 'violet')\n",
        "plt.title('L1 Lasso Regression (Training Set)')\n",
        "plt.show()"
      ],
      "metadata": {
        "id": "UfUV2LzMBIql"
      },
      "execution_count": null,
      "outputs": []
    },
    {
      "cell_type": "code",
      "source": [
        "plt.scatter(X_train, y_train, color = 'red')\n",
        "plt.plot(X_train, L2.predict(X_train), color = 'green')\n",
        "plt.title('L2 Ridge Regression (Training Set)')\n",
        "plt.show()"
      ],
      "metadata": {
        "id": "syclqomoBhqW"
      },
      "execution_count": null,
      "outputs": []
    },
    {
      "cell_type": "markdown",
      "source": [
        "# Visualizing the Test Set Results"
      ],
      "metadata": {
        "id": "BIFac1LgBrAy"
      }
    },
    {
      "cell_type": "code",
      "source": [
        "plt.scatter(X_test, y_test, color = 'red')\n",
        "plt.plot(X_test, L1.predict(X_test), color = 'violet')\n",
        "plt.title('L1 Lass Regressor (Test Set)')\n",
        "plt.show()"
      ],
      "metadata": {
        "id": "VhlAkmK8B4aX"
      },
      "execution_count": null,
      "outputs": []
    },
    {
      "cell_type": "code",
      "source": [
        "plt.scatter(X_test, y_test, color = 'red')\n",
        "plt.plot(X_test, L2.predict(X_test), color = 'green')\n",
        "plt.title('L2 Ridge Regressor (Test Set)')\n",
        "plt.show()"
      ],
      "metadata": {
        "id": "HXHvRHq2CJA_"
      },
      "execution_count": null,
      "outputs": []
    },
    {
      "cell_type": "markdown",
      "source": [
        "## Compare Performance Metrics of L1 and L2"
      ],
      "metadata": {
        "id": "edi-xedZCSfj"
      }
    },
    {
      "cell_type": "markdown",
      "source": [
        "# Mean Absolute Error (MAE)"
      ],
      "metadata": {
        "id": "-szVSvjICYV7"
      }
    },
    {
      "cell_type": "code",
      "source": [
        "print('L1_MAE: ', mean_absolute_error(y_test, y1_pred))\n",
        "print('L2_MAE: ', mean_absolute_error(y_test, y2_pred))"
      ],
      "metadata": {
        "id": "V_EnPXBXCbFt"
      },
      "execution_count": null,
      "outputs": []
    },
    {
      "cell_type": "markdown",
      "source": [
        "# Mean Squared Error (MSE)"
      ],
      "metadata": {
        "id": "APPDMzKZCff4"
      }
    },
    {
      "cell_type": "code",
      "source": [
        "print('L1_MSE: ', mean_squared_error(y_test, y1_pred))\n",
        "print('L2_MSE: ', mean_squared_error(y_test, y2_pred))"
      ],
      "metadata": {
        "id": "ZDZLI6BQCmN2"
      },
      "execution_count": null,
      "outputs": []
    },
    {
      "cell_type": "markdown",
      "source": [
        "# Root Mean Squared Error (RMSE)"
      ],
      "metadata": {
        "id": "kLPEKe2mCpMP"
      }
    },
    {
      "cell_type": "code",
      "source": [
        "print('L1_RMSE: ', mean_squared_error(y_test, y1_pred, squared=False))\n",
        "print('L2_RMSE: ', mean_squared_error(y_test, y2_pred, squared=False))"
      ],
      "metadata": {
        "id": "aKjQNdRuCskf"
      },
      "execution_count": null,
      "outputs": []
    },
    {
      "cell_type": "markdown",
      "source": [
        "# R-Squared"
      ],
      "metadata": {
        "id": "Q0q_ruAqCvPM"
      }
    },
    {
      "cell_type": "code",
      "source": [
        "print('L1_r2: ', r2_score(y_test, y1_pred))\n",
        "print('L2_r2: ', r2_score(y_test, y2_pred)"
      ],
      "metadata": {
        "id": "7mmzo0mHCxir"
      },
      "execution_count": null,
      "outputs": []
    },
    {
      "cell_type": "markdown",
      "source": [
        "# Adjusted R-Squared"
      ],
      "metadata": {
        "id": "2ONWrEoJCzy_"
      }
    },
    {
      "cell_type": "code",
      "source": [
        "print('L1_adj_r2: ', (1 - (1-L1_r2)*(len(y)-1)/(len(y) - X.shape[1] - 1)))\n",
        "print('L2_adj_r2: ', (1 - (1-L2_r2)*(len(y)-1)/(len(y) - X.shape[1] - 1)))"
      ],
      "metadata": {
        "id": "b_A_LUcNC2OQ"
      },
      "execution_count": null,
      "outputs": []
    }
  ]
}