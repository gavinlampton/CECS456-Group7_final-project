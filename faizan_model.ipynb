{
  "cells": [
    {
      "attachments": {},
      "cell_type": "markdown",
      "metadata": {},
      "source": [
        "Neutral Network"
      ]
    },
    {
      "cell_type": "code",
      "execution_count": 1,
      "metadata": {
        "colab": {
          "base_uri": "https://localhost:8080/"
        },
        "id": "je68g117X_rj",
        "outputId": "68915ba8-dd0f-4f90-9e6d-943cc4156f74"
      },
      "outputs": [],
      "source": [
        "import pandas as pd\n",
        "\n",
        "dataset= pd.read_csv(\"Real estate valuation data set.csv\")\n",
        "\n",
        "\n",
        "X= dataset[dataset.columns[2:-1]].values\n",
        "y= dataset[dataset.columns[-1]].values\n",
        "\n",
        "\n",
        "\n",
        "# print(X)\n",
        "\n"
      ]
    },
    {
      "attachments": {},
      "cell_type": "markdown",
      "metadata": {},
      "source": [
        "Categorical data"
      ]
    },
    {
      "cell_type": "code",
      "execution_count": 2,
      "metadata": {},
      "outputs": [],
      "source": [
        "from sklearn.preprocessing import LabelEncoder\n",
        "\n",
        "le=LabelEncoder()\n",
        "X[:,2]=le.fit_transform(X[:,1])\n",
        "\n"
      ]
    },
    {
      "cell_type": "code",
      "execution_count": 3,
      "metadata": {},
      "outputs": [
        {
          "name": "stdout",
          "output_type": "stream",
          "text": [
            "[[ 32.       84.87882   5.       24.98298 121.54024]\n",
            " [ 19.5     306.5947   59.       24.98034 121.53951]\n",
            " [ 13.3     561.9845  134.       24.98746 121.54391]\n",
            " ...\n",
            " [ 18.8     390.9696   91.       24.97923 121.53986]\n",
            " [  8.1     104.8101    8.       24.96674 121.54067]\n",
            " [  6.5      90.45606   7.       24.97433 121.5431 ]]\n"
          ]
        }
      ],
      "source": [
        "print(X)"
      ]
    },
    {
      "attachments": {},
      "cell_type": "markdown",
      "metadata": {},
      "source": [
        "Split"
      ]
    },
    {
      "cell_type": "code",
      "execution_count": 4,
      "metadata": {},
      "outputs": [],
      "source": [
        "from sklearn.model_selection import train_test_split\n",
        "\n",
        "X_train, X_test, y_train, y_test = train_test_split(X, y, test_size=0.20, random_state=0)"
      ]
    },
    {
      "attachments": {},
      "cell_type": "markdown",
      "metadata": {},
      "source": [
        "Feature Scaling"
      ]
    },
    {
      "cell_type": "code",
      "execution_count": 5,
      "metadata": {},
      "outputs": [],
      "source": [
        "from sklearn.preprocessing import StandardScaler\n",
        "\n",
        "sc = StandardScaler()\n",
        "X_train=sc.fit_transform(X_train)\n",
        "X_test=sc.transform(X_test)"
      ]
    },
    {
      "attachments": {},
      "cell_type": "markdown",
      "metadata": {},
      "source": [
        "Neural Network"
      ]
    },
    {
      "cell_type": "code",
      "execution_count": 6,
      "metadata": {},
      "outputs": [],
      "source": [
        "#init ANN\n",
        "import tensorflow as tf\n",
        "ann=tf.keras.models.Sequential()\n"
      ]
    },
    {
      "cell_type": "code",
      "execution_count": 7,
      "metadata": {},
      "outputs": [],
      "source": [
        "#adding hidden layers\n",
        "ann.add(tf.keras.layers.Dense(units=6,activation='softplus'))\n",
        "ann.add(tf.keras.layers.Dense(units=8,activation='softplus' ))\n",
        "ann.add(tf.keras.layers.Dense(units=10,activation='softplus'))\n",
        "ann.add(tf.keras.layers.Dense(units=12,activation='softplus'))"
      ]
    },
    {
      "cell_type": "code",
      "execution_count": 9,
      "metadata": {},
      "outputs": [],
      "source": [
        "#output layer\n",
        "\n",
        "ann.add(tf.keras.layers.Dense(units=1,activation='linear'))"
      ]
    },
    {
      "cell_type": "code",
      "execution_count": 10,
      "metadata": {},
      "outputs": [],
      "source": [
        "#compiling ANN\n",
        "ann.compile(optimizer='adam',loss='mean_squared_error',metrics=['accuracy'])"
      ]
    },
    {
      "cell_type": "code",
      "execution_count": 11,
      "metadata": {},
      "outputs": [
        {
          "name": "stdout",
          "output_type": "stream",
          "text": [
            "Epoch 1/100\n",
            "11/11 [==============================] - 0s 801us/step - loss: 1587.7977 - accuracy: 0.0000e+00\n",
            "Epoch 2/100\n",
            "11/11 [==============================] - 0s 701us/step - loss: 1566.9794 - accuracy: 0.0000e+00\n",
            "Epoch 3/100\n",
            "11/11 [==============================] - 0s 801us/step - loss: 1544.4949 - accuracy: 0.0000e+00\n",
            "Epoch 4/100\n",
            "11/11 [==============================] - 0s 701us/step - loss: 1519.8007 - accuracy: 0.0000e+00\n",
            "Epoch 5/100\n",
            "11/11 [==============================] - 0s 801us/step - loss: 1492.3564 - accuracy: 0.0000e+00\n",
            "Epoch 6/100\n",
            "11/11 [==============================] - 0s 701us/step - loss: 1460.3998 - accuracy: 0.0000e+00\n",
            "Epoch 7/100\n",
            "11/11 [==============================] - 0s 652us/step - loss: 1422.8611 - accuracy: 0.0000e+00\n",
            "Epoch 8/100\n",
            "11/11 [==============================] - 0s 752us/step - loss: 1377.6118 - accuracy: 0.0000e+00\n",
            "Epoch 9/100\n",
            "11/11 [==============================] - 0s 752us/step - loss: 1323.2427 - accuracy: 0.0000e+00\n",
            "Epoch 10/100\n",
            "11/11 [==============================] - 0s 652us/step - loss: 1256.9613 - accuracy: 0.0000e+00\n",
            "Epoch 11/100\n",
            "11/11 [==============================] - 0s 752us/step - loss: 1174.4366 - accuracy: 0.0000e+00\n",
            "Epoch 12/100\n",
            "11/11 [==============================] - 0s 752us/step - loss: 1076.2646 - accuracy: 0.0000e+00\n",
            "Epoch 13/100\n",
            "11/11 [==============================] - 0s 751us/step - loss: 953.8091 - accuracy: 0.0000e+00\n",
            "Epoch 14/100\n",
            "11/11 [==============================] - 0s 752us/step - loss: 815.5266 - accuracy: 0.0000e+00\n",
            "Epoch 15/100\n",
            "11/11 [==============================] - 0s 752us/step - loss: 663.3726 - accuracy: 0.0000e+00\n",
            "Epoch 16/100\n",
            "11/11 [==============================] - 0s 751us/step - loss: 507.8015 - accuracy: 0.0000e+00\n",
            "Epoch 17/100\n",
            "11/11 [==============================] - 0s 752us/step - loss: 376.8418 - accuracy: 0.0000e+00\n",
            "Epoch 18/100\n",
            "11/11 [==============================] - 0s 752us/step - loss: 277.3419 - accuracy: 0.0000e+00\n",
            "Epoch 19/100\n",
            "11/11 [==============================] - 0s 852us/step - loss: 216.5956 - accuracy: 0.0000e+00\n",
            "Epoch 20/100\n",
            "11/11 [==============================] - 0s 852us/step - loss: 178.7577 - accuracy: 0.0000e+00\n",
            "Epoch 21/100\n",
            "11/11 [==============================] - 0s 705us/step - loss: 154.7111 - accuracy: 0.0000e+00\n",
            "Epoch 22/100\n",
            "11/11 [==============================] - 0s 752us/step - loss: 135.9139 - accuracy: 0.0000e+00\n",
            "Epoch 23/100\n",
            "11/11 [==============================] - 0s 752us/step - loss: 123.0910 - accuracy: 0.0000e+00\n",
            "Epoch 24/100\n",
            "11/11 [==============================] - 0s 752us/step - loss: 113.3815 - accuracy: 0.0000e+00\n",
            "Epoch 25/100\n",
            "11/11 [==============================] - 0s 751us/step - loss: 105.7386 - accuracy: 0.0000e+00\n",
            "Epoch 26/100\n",
            "11/11 [==============================] - 0s 751us/step - loss: 100.4411 - accuracy: 0.0000e+00\n",
            "Epoch 27/100\n",
            "11/11 [==============================] - 0s 752us/step - loss: 96.0899 - accuracy: 0.0000e+00\n",
            "Epoch 28/100\n",
            "11/11 [==============================] - 0s 852us/step - loss: 91.9974 - accuracy: 0.0000e+00\n",
            "Epoch 29/100\n",
            "11/11 [==============================] - 0s 752us/step - loss: 89.5601 - accuracy: 0.0000e+00\n",
            "Epoch 30/100\n",
            "11/11 [==============================] - 0s 852us/step - loss: 87.1874 - accuracy: 0.0000e+00\n",
            "Epoch 31/100\n",
            "11/11 [==============================] - 0s 752us/step - loss: 85.2393 - accuracy: 0.0000e+00\n",
            "Epoch 32/100\n",
            "11/11 [==============================] - 0s 801us/step - loss: 83.8958 - accuracy: 0.0000e+00\n",
            "Epoch 33/100\n",
            "11/11 [==============================] - 0s 851us/step - loss: 82.8996 - accuracy: 0.0000e+00\n",
            "Epoch 34/100\n",
            "11/11 [==============================] - 0s 852us/step - loss: 81.6177 - accuracy: 0.0000e+00\n",
            "Epoch 35/100\n",
            "11/11 [==============================] - 0s 752us/step - loss: 80.6217 - accuracy: 0.0000e+00\n",
            "Epoch 36/100\n",
            "11/11 [==============================] - 0s 752us/step - loss: 79.8636 - accuracy: 0.0000e+00\n",
            "Epoch 37/100\n",
            "11/11 [==============================] - 0s 852us/step - loss: 79.2294 - accuracy: 0.0000e+00\n",
            "Epoch 38/100\n",
            "11/11 [==============================] - 0s 852us/step - loss: 78.4988 - accuracy: 0.0000e+00\n",
            "Epoch 39/100\n",
            "11/11 [==============================] - 0s 752us/step - loss: 78.0664 - accuracy: 0.0000e+00\n",
            "Epoch 40/100\n",
            "11/11 [==============================] - 0s 752us/step - loss: 77.5374 - accuracy: 0.0000e+00\n",
            "Epoch 41/100\n",
            "11/11 [==============================] - 0s 752us/step - loss: 77.6626 - accuracy: 0.0000e+00\n",
            "Epoch 42/100\n",
            "11/11 [==============================] - 0s 752us/step - loss: 76.5607 - accuracy: 0.0000e+00\n",
            "Epoch 43/100\n",
            "11/11 [==============================] - 0s 652us/step - loss: 76.1907 - accuracy: 0.0000e+00\n",
            "Epoch 44/100\n",
            "11/11 [==============================] - 0s 752us/step - loss: 75.9249 - accuracy: 0.0000e+00\n",
            "Epoch 45/100\n",
            "11/11 [==============================] - 0s 752us/step - loss: 75.5734 - accuracy: 0.0000e+00\n",
            "Epoch 46/100\n",
            "11/11 [==============================] - 0s 752us/step - loss: 75.5565 - accuracy: 0.0000e+00\n",
            "Epoch 47/100\n",
            "11/11 [==============================] - 0s 752us/step - loss: 74.9658 - accuracy: 0.0000e+00\n",
            "Epoch 48/100\n",
            "11/11 [==============================] - 0s 652us/step - loss: 74.7886 - accuracy: 0.0000e+00\n",
            "Epoch 49/100\n",
            "11/11 [==============================] - 0s 752us/step - loss: 74.4054 - accuracy: 0.0000e+00\n",
            "Epoch 50/100\n",
            "11/11 [==============================] - 0s 703us/step - loss: 74.2427 - accuracy: 0.0000e+00\n",
            "Epoch 51/100\n",
            "11/11 [==============================] - 0s 751us/step - loss: 73.9107 - accuracy: 0.0000e+00\n",
            "Epoch 52/100\n",
            "11/11 [==============================] - 0s 752us/step - loss: 73.6989 - accuracy: 0.0000e+00\n",
            "Epoch 53/100\n",
            "11/11 [==============================] - 0s 751us/step - loss: 73.6149 - accuracy: 0.0000e+00\n",
            "Epoch 54/100\n",
            "11/11 [==============================] - 0s 700us/step - loss: 73.3127 - accuracy: 0.0000e+00\n",
            "Epoch 55/100\n",
            "11/11 [==============================] - 0s 600us/step - loss: 72.9705 - accuracy: 0.0000e+00\n",
            "Epoch 56/100\n",
            "11/11 [==============================] - 0s 701us/step - loss: 73.1956 - accuracy: 0.0000e+00\n",
            "Epoch 57/100\n",
            "11/11 [==============================] - 0s 802us/step - loss: 72.9514 - accuracy: 0.0000e+00\n",
            "Epoch 58/100\n",
            "11/11 [==============================] - 0s 701us/step - loss: 72.7388 - accuracy: 0.0000e+00\n",
            "Epoch 59/100\n",
            "11/11 [==============================] - 0s 752us/step - loss: 72.5441 - accuracy: 0.0000e+00\n",
            "Epoch 60/100\n",
            "11/11 [==============================] - 0s 752us/step - loss: 72.2425 - accuracy: 0.0000e+00\n",
            "Epoch 61/100\n",
            "11/11 [==============================] - 0s 702us/step - loss: 72.0973 - accuracy: 0.0000e+00\n",
            "Epoch 62/100\n",
            "11/11 [==============================] - 0s 652us/step - loss: 71.9924 - accuracy: 0.0000e+00\n",
            "Epoch 63/100\n",
            "11/11 [==============================] - 0s 752us/step - loss: 71.8002 - accuracy: 0.0000e+00\n",
            "Epoch 64/100\n",
            "11/11 [==============================] - 0s 652us/step - loss: 71.6790 - accuracy: 0.0000e+00\n",
            "Epoch 65/100\n",
            "11/11 [==============================] - 0s 752us/step - loss: 71.4941 - accuracy: 0.0000e+00\n",
            "Epoch 66/100\n",
            "11/11 [==============================] - 0s 752us/step - loss: 71.3631 - accuracy: 0.0000e+00\n",
            "Epoch 67/100\n",
            "11/11 [==============================] - 0s 751us/step - loss: 71.2527 - accuracy: 0.0000e+00\n",
            "Epoch 68/100\n",
            "11/11 [==============================] - 0s 751us/step - loss: 71.0371 - accuracy: 0.0000e+00\n",
            "Epoch 69/100\n",
            "11/11 [==============================] - 0s 751us/step - loss: 70.9484 - accuracy: 0.0000e+00\n",
            "Epoch 70/100\n",
            "11/11 [==============================] - 0s 751us/step - loss: 70.8623 - accuracy: 0.0000e+00\n",
            "Epoch 71/100\n",
            "11/11 [==============================] - 0s 750us/step - loss: 70.6647 - accuracy: 0.0000e+00\n",
            "Epoch 72/100\n",
            "11/11 [==============================] - 0s 751us/step - loss: 70.6311 - accuracy: 0.0000e+00\n",
            "Epoch 73/100\n",
            "11/11 [==============================] - 0s 801us/step - loss: 70.4223 - accuracy: 0.0000e+00\n",
            "Epoch 74/100\n",
            "11/11 [==============================] - 0s 601us/step - loss: 70.4118 - accuracy: 0.0000e+00\n",
            "Epoch 75/100\n",
            "11/11 [==============================] - 0s 701us/step - loss: 70.3023 - accuracy: 0.0000e+00\n",
            "Epoch 76/100\n",
            "11/11 [==============================] - 0s 701us/step - loss: 70.1719 - accuracy: 0.0000e+00\n",
            "Epoch 77/100\n",
            "11/11 [==============================] - 0s 701us/step - loss: 70.1754 - accuracy: 0.0000e+00\n",
            "Epoch 78/100\n",
            "11/11 [==============================] - 0s 701us/step - loss: 70.1781 - accuracy: 0.0000e+00\n",
            "Epoch 79/100\n",
            "11/11 [==============================] - 0s 802us/step - loss: 70.1046 - accuracy: 0.0000e+00\n",
            "Epoch 80/100\n",
            "11/11 [==============================] - 0s 852us/step - loss: 69.8637 - accuracy: 0.0000e+00\n",
            "Epoch 81/100\n",
            "11/11 [==============================] - 0s 701us/step - loss: 69.8016 - accuracy: 0.0000e+00\n",
            "Epoch 82/100\n",
            "11/11 [==============================] - 0s 701us/step - loss: 69.6447 - accuracy: 0.0000e+00\n",
            "Epoch 83/100\n",
            "11/11 [==============================] - 0s 701us/step - loss: 69.6844 - accuracy: 0.0000e+00\n",
            "Epoch 84/100\n",
            "11/11 [==============================] - 0s 701us/step - loss: 69.3516 - accuracy: 0.0000e+00\n",
            "Epoch 85/100\n",
            "11/11 [==============================] - 0s 694us/step - loss: 69.4210 - accuracy: 0.0000e+00\n",
            "Epoch 86/100\n",
            "11/11 [==============================] - 0s 752us/step - loss: 69.2750 - accuracy: 0.0000e+00\n",
            "Epoch 87/100\n",
            "11/11 [==============================] - 0s 754us/step - loss: 69.1202 - accuracy: 0.0000e+00\n",
            "Epoch 88/100\n",
            "11/11 [==============================] - 0s 652us/step - loss: 69.0923 - accuracy: 0.0000e+00\n",
            "Epoch 89/100\n",
            "11/11 [==============================] - 0s 752us/step - loss: 69.1349 - accuracy: 0.0000e+00\n",
            "Epoch 90/100\n",
            "11/11 [==============================] - 0s 752us/step - loss: 68.9659 - accuracy: 0.0000e+00\n",
            "Epoch 91/100\n",
            "11/11 [==============================] - 0s 752us/step - loss: 69.0012 - accuracy: 0.0000e+00\n",
            "Epoch 92/100\n",
            "11/11 [==============================] - 0s 752us/step - loss: 68.8573 - accuracy: 0.0000e+00\n",
            "Epoch 93/100\n",
            "11/11 [==============================] - 0s 651us/step - loss: 68.7050 - accuracy: 0.0000e+00\n",
            "Epoch 94/100\n",
            "11/11 [==============================] - 0s 652us/step - loss: 68.7317 - accuracy: 0.0000e+00\n",
            "Epoch 95/100\n",
            "11/11 [==============================] - 0s 751us/step - loss: 68.6743 - accuracy: 0.0000e+00\n",
            "Epoch 96/100\n",
            "11/11 [==============================] - 0s 751us/step - loss: 68.8109 - accuracy: 0.0000e+00\n",
            "Epoch 97/100\n",
            "11/11 [==============================] - 0s 751us/step - loss: 68.4271 - accuracy: 0.0000e+00\n",
            "Epoch 98/100\n",
            "11/11 [==============================] - 0s 851us/step - loss: 68.4488 - accuracy: 0.0000e+00\n",
            "Epoch 99/100\n",
            "11/11 [==============================] - 0s 652us/step - loss: 68.3119 - accuracy: 0.0000e+00\n",
            "Epoch 100/100\n",
            "11/11 [==============================] - 0s 650us/step - loss: 68.2157 - accuracy: 0.0000e+00\n"
          ]
        },
        {
          "data": {
            "text/plain": [
              "<keras.callbacks.History at 0x2b02a849bb0>"
            ]
          },
          "execution_count": 11,
          "metadata": {},
          "output_type": "execute_result"
        }
      ],
      "source": [
        "#training ANN\n",
        "\n",
        "ann.fit(X_train,y_train,epochs=100,batch_size=32)\n"
      ]
    },
    {
      "cell_type": "code",
      "execution_count": 12,
      "metadata": {},
      "outputs": [
        {
          "name": "stdout",
          "output_type": "stream",
          "text": [
            "1/1 [==============================] - 0s 52ms/step\n"
          ]
        },
        {
          "data": {
            "text/plain": [
              "array([[52.36837]], dtype=float32)"
            ]
          },
          "execution_count": 12,
          "metadata": {},
          "output_type": "execute_result"
        }
      ],
      "source": [
        "#predict\n",
        "ann.predict(sc.transform([[32,84.87882,10,24.98298,121.54024]]))\n"
      ]
    },
    {
      "cell_type": "code",
      "execution_count": 15,
      "metadata": {},
      "outputs": [
        {
          "name": "stdout",
          "output_type": "stream",
          "text": [
            "3/3 [==============================] - 0s 1ms/step\n",
            "Mean Absolute Error:  4.931774176172463\n",
            "Mean Square Error:  44.80554951059762\n",
            "R Square Error:  0.7420506382989422\n",
            "[[45.362087]\n",
            " [18.48157 ]\n",
            " [43.77957 ]\n",
            " [18.417625]\n",
            " [45.895645]\n",
            " [36.73877 ]\n",
            " [42.89972 ]\n",
            " [37.0223  ]\n",
            " [50.59317 ]\n",
            " [44.857613]\n",
            " [44.401962]\n",
            " [34.70179 ]\n",
            " [45.413277]\n",
            " [42.805817]\n",
            " [54.434967]\n",
            " [36.285538]\n",
            " [36.12261 ]\n",
            " [50.703125]\n",
            " [34.687046]\n",
            " [46.929405]\n",
            " [57.803944]\n",
            " [28.33239 ]\n",
            " [38.48798 ]\n",
            " [51.101738]\n",
            " [48.70842 ]\n",
            " [40.601173]\n",
            " [38.464447]\n",
            " [25.066889]\n",
            " [49.573124]\n",
            " [30.11689 ]\n",
            " [39.738476]\n",
            " [32.09534 ]\n",
            " [49.64998 ]\n",
            " [40.499535]\n",
            " [38.58487 ]\n",
            " [28.28078 ]\n",
            " [51.574043]\n",
            " [30.844095]\n",
            " [50.055893]\n",
            " [19.920568]\n",
            " [49.002094]\n",
            " [36.15856 ]\n",
            " [27.74178 ]\n",
            " [51.97391 ]\n",
            " [19.215467]\n",
            " [35.182487]\n",
            " [38.405384]\n",
            " [19.32134 ]\n",
            " [25.6905  ]\n",
            " [46.35829 ]\n",
            " [57.403175]\n",
            " [36.544437]\n",
            " [47.22132 ]\n",
            " [23.630327]\n",
            " [28.358458]\n",
            " [35.485207]\n",
            " [52.184853]\n",
            " [37.03377 ]\n",
            " [44.546684]\n",
            " [32.17049 ]\n",
            " [36.829815]\n",
            " [48.911316]\n",
            " [37.3326  ]\n",
            " [50.85617 ]\n",
            " [41.548946]\n",
            " [23.782423]\n",
            " [18.26575 ]\n",
            " [29.020372]\n",
            " [52.54908 ]\n",
            " [36.73877 ]\n",
            " [31.8503  ]\n",
            " [49.768967]\n",
            " [47.04658 ]\n",
            " [25.461115]\n",
            " [43.424896]\n",
            " [26.822334]\n",
            " [25.929258]\n",
            " [19.578192]\n",
            " [50.99201 ]\n",
            " [39.44485 ]\n",
            " [48.457798]\n",
            " [27.693214]\n",
            " [39.312653]]\n"
          ]
        }
      ],
      "source": [
        "#Mean Error\n",
        "\n",
        "from sklearn.metrics import mean_absolute_error, mean_squared_error, r2_score\n",
        "y_pred = ann.predict(X_test)\n",
        "r2 = r2_score(y_test,y_pred)\n",
        "mae = mean_absolute_error(y_test, y_pred)\n",
        "mse = mean_squared_error(y_test, y_pred)\n",
        "print(\"Mean Absolute Error: \",mae)\n",
        "print(\"Mean Square Error: \",mse)\n",
        "print(\"R Square Error: \",r2)\n",
        "print(y_pred)"
      ]
    }
  ],
  "metadata": {
    "colab": {
      "provenance": []
    },
    "kernelspec": {
      "display_name": "Python 3",
      "name": "python3"
    },
    "language_info": {
      "codemirror_mode": {
        "name": "ipython",
        "version": 3
      },
      "file_extension": ".py",
      "mimetype": "text/x-python",
      "name": "python",
      "nbconvert_exporter": "python",
      "pygments_lexer": "ipython3",
      "version": "3.9.10"
    }
  },
  "nbformat": 4,
  "nbformat_minor": 0
}
