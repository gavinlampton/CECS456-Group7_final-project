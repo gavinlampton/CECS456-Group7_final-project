{
  "nbformat": 4,
  "nbformat_minor": 0,
  "metadata": {
    "colab": {
      "provenance": [],
      "toc_visible": true
    },
    "kernelspec": {
      "name": "python3",
      "display_name": "Python 3"
    },
    "language_info": {
      "name": "python"
    }
  },
  "cells": [
    {
      "cell_type": "markdown",
      "source": [
        "# Imports Used"
      ],
      "metadata": {
        "id": "5vlLGgxgscwo"
      }
    },
    {
      "cell_type": "code",
      "source": [
        "import pandas as pd\n",
        "import tensorflow as tenF\n",
        "import numpy as np\n",
        "from sklearn.preprocessing import LabelEncoder\n",
        "from sklearn.model_selection import train_test_split\n",
        "from sklearn.preprocessing import StandardScaler\n",
        "from sklearn.metrics import confusion_matrix, accuracy_score"
      ],
      "metadata": {
        "id": "jpDPW8Z6mWtr"
      },
      "execution_count": null,
      "outputs": []
    },
    {
      "cell_type": "markdown",
      "source": [
        "# Load Data"
      ],
      "metadata": {
        "id": "vELVlciSsmE2"
      }
    },
    {
      "cell_type": "code",
      "source": [
        "data = pd.read_excel(\"./Real estate valuation data set.xlsx\")\n",
        "\n",
        "x = data[data.columns[2:-1]].values\n",
        "y = data[data.columns[-1]].values"
      ],
      "metadata": {
        "id": "AcZmbqaerKH5"
      },
      "execution_count": null,
      "outputs": []
    },
    {
      "cell_type": "markdown",
      "source": [
        "# Cat Data"
      ],
      "metadata": {
        "id": "j9M2XQ5VnK8V"
      }
    },
    {
      "cell_type": "code",
      "source": [
        "labe=LabelEncoder()\n",
        "x[:,2] = labe.fit_transform(x[:,2])"
      ],
      "metadata": {
        "id": "oL8R1y6Imk8J"
      },
      "execution_count": null,
      "outputs": []
    },
    {
      "cell_type": "code",
      "source": [
        "print(x)"
      ],
      "metadata": {
        "colab": {
          "base_uri": "https://localhost:8080/"
        },
        "id": "QueS9uCUmuZh",
        "outputId": "426d8092-87d5-41e3-898c-d781a8eb49fc"
      },
      "execution_count": null,
      "outputs": [
        {
          "output_type": "stream",
          "name": "stdout",
          "text": [
            "[[ 32.       84.87882  10.       24.98298 121.54024]\n",
            " [ 19.5     306.5947    9.       24.98034 121.53951]\n",
            " [ 13.3     561.9845    5.       24.98746 121.54391]\n",
            " ...\n",
            " [ 18.8     390.9696    7.       24.97923 121.53986]\n",
            " [  8.1     104.8101    5.       24.96674 121.54067]\n",
            " [  6.5      90.45606   9.       24.97433 121.5431 ]]\n"
          ]
        }
      ]
    },
    {
      "cell_type": "markdown",
      "source": [
        "# Split it"
      ],
      "metadata": {
        "id": "mxh9D_2dm_Hs"
      }
    },
    {
      "cell_type": "code",
      "source": [
        "x_train, x_test, y_train, y_test = train_test_split(x, y, test_size=0.25, random_state=0)"
      ],
      "metadata": {
        "id": "SMtn3IAHmxvb"
      },
      "execution_count": null,
      "outputs": []
    },
    {
      "cell_type": "markdown",
      "source": [
        "# Feature Scaling"
      ],
      "metadata": {
        "id": "qiHrmK__m7id"
      }
    },
    {
      "cell_type": "code",
      "source": [
        "stdSC = StandardScaler()\n",
        "x_train = stdSC.fit_transform(x_train)\n",
        "x_test = stdSC.transform(x_test)"
      ],
      "metadata": {
        "id": "aXWWBYzgnTBM"
      },
      "execution_count": null,
      "outputs": []
    },
    {
      "cell_type": "markdown",
      "source": [
        "# Neural  Net Part"
      ],
      "metadata": {
        "id": "lczV3RAjnnkc"
      }
    },
    {
      "cell_type": "code",
      "source": [
        "neuN=tenF.keras.models.Sequential()"
      ],
      "metadata": {
        "id": "OklBQqOfnnBQ"
      },
      "execution_count": null,
      "outputs": []
    },
    {
      "cell_type": "code",
      "source": [
        "neuN.add(tenF.keras.layers.Dense(units=6,activation = 'relu'))"
      ],
      "metadata": {
        "id": "KTA2jbO7oMrw"
      },
      "execution_count": null,
      "outputs": []
    },
    {
      "cell_type": "code",
      "source": [
        "neuN.add(tenF.keras.layers.Dense(units=7,activation = 'relu'))"
      ],
      "metadata": {
        "id": "dUGtKEe-oVsc"
      },
      "execution_count": null,
      "outputs": []
    },
    {
      "cell_type": "code",
      "source": [
        "neuN.add(tenF.keras.layers.Dense(units=1,activation = 'softmax'))"
      ],
      "metadata": {
        "id": "ijeS40-YohxM"
      },
      "execution_count": null,
      "outputs": []
    },
    {
      "cell_type": "code",
      "source": [
        "neuN.compile(optimizer = 'adam',loss='binary_crossentropy',metrics = ['accuracy'])"
      ],
      "metadata": {
        "id": "xAcbSFgeokog"
      },
      "execution_count": null,
      "outputs": []
    },
    {
      "cell_type": "code",
      "source": [
        "neuN.fit(x_train,y_train,epochs = 100,batch_size = 32)"
      ],
      "metadata": {
        "colab": {
          "base_uri": "https://localhost:8080/"
        },
        "id": "bsDaBvlMotWT",
        "outputId": "8ac50f83-fc78-4fa5-c6c4-bc7698d5a23d"
      },
      "execution_count": null,
      "outputs": [
        {
          "output_type": "stream",
          "name": "stdout",
          "text": [
            "Epoch 1/100\n",
            "10/10 [==============================] - 1s 2ms/step - loss: 5.7895 - accuracy: 0.0000e+00\n",
            "Epoch 2/100\n",
            "10/10 [==============================] - 0s 3ms/step - loss: 3.2523 - accuracy: 0.0000e+00\n",
            "Epoch 3/100\n",
            "10/10 [==============================] - 0s 3ms/step - loss: 0.7189 - accuracy: 0.0000e+00\n",
            "Epoch 4/100\n",
            "10/10 [==============================] - 0s 3ms/step - loss: -1.8101 - accuracy: 0.0000e+00\n",
            "Epoch 5/100\n",
            "10/10 [==============================] - 0s 2ms/step - loss: -4.5282 - accuracy: 0.0000e+00\n",
            "Epoch 6/100\n",
            "10/10 [==============================] - 0s 2ms/step - loss: -7.3466 - accuracy: 0.0000e+00\n",
            "Epoch 7/100\n",
            "10/10 [==============================] - 0s 2ms/step - loss: -10.3569 - accuracy: 0.0000e+00\n",
            "Epoch 8/100\n",
            "10/10 [==============================] - 0s 3ms/step - loss: -13.6288 - accuracy: 0.0000e+00\n",
            "Epoch 9/100\n",
            "10/10 [==============================] - 0s 2ms/step - loss: -17.3885 - accuracy: 0.0000e+00\n",
            "Epoch 10/100\n",
            "10/10 [==============================] - 0s 2ms/step - loss: -21.7139 - accuracy: 0.0000e+00\n",
            "Epoch 11/100\n",
            "10/10 [==============================] - 0s 2ms/step - loss: -26.2461 - accuracy: 0.0000e+00\n",
            "Epoch 12/100\n",
            "10/10 [==============================] - 0s 3ms/step - loss: -31.1986 - accuracy: 0.0000e+00\n",
            "Epoch 13/100\n",
            "10/10 [==============================] - 0s 3ms/step - loss: -36.6063 - accuracy: 0.0000e+00\n",
            "Epoch 14/100\n",
            "10/10 [==============================] - 0s 3ms/step - loss: -42.4665 - accuracy: 0.0000e+00\n",
            "Epoch 15/100\n",
            "10/10 [==============================] - 0s 3ms/step - loss: -48.9970 - accuracy: 0.0000e+00\n",
            "Epoch 16/100\n",
            "10/10 [==============================] - 0s 4ms/step - loss: -55.9890 - accuracy: 0.0000e+00\n",
            "Epoch 17/100\n",
            "10/10 [==============================] - 0s 3ms/step - loss: -63.6966 - accuracy: 0.0000e+00\n",
            "Epoch 18/100\n",
            "10/10 [==============================] - 0s 2ms/step - loss: -72.1477 - accuracy: 0.0000e+00\n",
            "Epoch 19/100\n",
            "10/10 [==============================] - 0s 2ms/step - loss: -81.5182 - accuracy: 0.0000e+00\n",
            "Epoch 20/100\n",
            "10/10 [==============================] - 0s 2ms/step - loss: -92.0114 - accuracy: 0.0000e+00\n",
            "Epoch 21/100\n",
            "10/10 [==============================] - 0s 3ms/step - loss: -103.5425 - accuracy: 0.0000e+00\n",
            "Epoch 22/100\n",
            "10/10 [==============================] - 0s 2ms/step - loss: -116.4380 - accuracy: 0.0000e+00\n",
            "Epoch 23/100\n",
            "10/10 [==============================] - 0s 2ms/step - loss: -130.9023 - accuracy: 0.0000e+00\n",
            "Epoch 24/100\n",
            "10/10 [==============================] - 0s 3ms/step - loss: -146.6876 - accuracy: 0.0000e+00\n",
            "Epoch 25/100\n",
            "10/10 [==============================] - 0s 3ms/step - loss: -163.5571 - accuracy: 0.0000e+00\n",
            "Epoch 26/100\n",
            "10/10 [==============================] - 0s 2ms/step - loss: -181.6739 - accuracy: 0.0000e+00\n",
            "Epoch 27/100\n",
            "10/10 [==============================] - 0s 3ms/step - loss: -201.3233 - accuracy: 0.0000e+00\n",
            "Epoch 28/100\n",
            "10/10 [==============================] - 0s 2ms/step - loss: -222.2855 - accuracy: 0.0000e+00\n",
            "Epoch 29/100\n",
            "10/10 [==============================] - 0s 2ms/step - loss: -244.9124 - accuracy: 0.0000e+00\n",
            "Epoch 30/100\n",
            "10/10 [==============================] - 0s 2ms/step - loss: -269.1292 - accuracy: 0.0000e+00\n",
            "Epoch 31/100\n",
            "10/10 [==============================] - 0s 3ms/step - loss: -295.2625 - accuracy: 0.0000e+00\n",
            "Epoch 32/100\n",
            "10/10 [==============================] - 0s 2ms/step - loss: -322.9974 - accuracy: 0.0000e+00\n",
            "Epoch 33/100\n",
            "10/10 [==============================] - 0s 3ms/step - loss: -353.9113 - accuracy: 0.0000e+00\n",
            "Epoch 34/100\n",
            "10/10 [==============================] - 0s 3ms/step - loss: -387.3679 - accuracy: 0.0000e+00\n",
            "Epoch 35/100\n",
            "10/10 [==============================] - 0s 2ms/step - loss: -423.9202 - accuracy: 0.0000e+00\n",
            "Epoch 36/100\n",
            "10/10 [==============================] - 0s 3ms/step - loss: -461.9434 - accuracy: 0.0000e+00\n",
            "Epoch 37/100\n",
            "10/10 [==============================] - 0s 3ms/step - loss: -503.0099 - accuracy: 0.0000e+00\n",
            "Epoch 38/100\n",
            "10/10 [==============================] - 0s 3ms/step - loss: -545.8971 - accuracy: 0.0000e+00\n",
            "Epoch 39/100\n",
            "10/10 [==============================] - 0s 3ms/step - loss: -591.3895 - accuracy: 0.0000e+00\n",
            "Epoch 40/100\n",
            "10/10 [==============================] - 0s 2ms/step - loss: -639.2256 - accuracy: 0.0000e+00\n",
            "Epoch 41/100\n",
            "10/10 [==============================] - 0s 3ms/step - loss: -688.8726 - accuracy: 0.0000e+00\n",
            "Epoch 42/100\n",
            "10/10 [==============================] - 0s 3ms/step - loss: -741.9828 - accuracy: 0.0000e+00\n",
            "Epoch 43/100\n",
            "10/10 [==============================] - 0s 3ms/step - loss: -797.8126 - accuracy: 0.0000e+00\n",
            "Epoch 44/100\n",
            "10/10 [==============================] - 0s 3ms/step - loss: -855.7591 - accuracy: 0.0000e+00\n",
            "Epoch 45/100\n",
            "10/10 [==============================] - 0s 2ms/step - loss: -916.9989 - accuracy: 0.0000e+00\n",
            "Epoch 46/100\n",
            "10/10 [==============================] - 0s 2ms/step - loss: -980.2438 - accuracy: 0.0000e+00\n",
            "Epoch 47/100\n",
            "10/10 [==============================] - 0s 3ms/step - loss: -1047.3892 - accuracy: 0.0000e+00\n",
            "Epoch 48/100\n",
            "10/10 [==============================] - 0s 3ms/step - loss: -1117.4210 - accuracy: 0.0000e+00\n",
            "Epoch 49/100\n",
            "10/10 [==============================] - 0s 3ms/step - loss: -1188.6937 - accuracy: 0.0000e+00\n",
            "Epoch 50/100\n",
            "10/10 [==============================] - 0s 3ms/step - loss: -1264.6873 - accuracy: 0.0000e+00\n",
            "Epoch 51/100\n",
            "10/10 [==============================] - 0s 4ms/step - loss: -1344.4851 - accuracy: 0.0000e+00\n",
            "Epoch 52/100\n",
            "10/10 [==============================] - 0s 2ms/step - loss: -1426.9072 - accuracy: 0.0000e+00\n",
            "Epoch 53/100\n",
            "10/10 [==============================] - 0s 3ms/step - loss: -1509.3929 - accuracy: 0.0000e+00\n",
            "Epoch 54/100\n",
            "10/10 [==============================] - 0s 3ms/step - loss: -1598.7787 - accuracy: 0.0000e+00\n",
            "Epoch 55/100\n",
            "10/10 [==============================] - 0s 2ms/step - loss: -1688.7761 - accuracy: 0.0000e+00\n",
            "Epoch 56/100\n",
            "10/10 [==============================] - 0s 3ms/step - loss: -1784.0919 - accuracy: 0.0000e+00\n",
            "Epoch 57/100\n",
            "10/10 [==============================] - 0s 3ms/step - loss: -1882.1343 - accuracy: 0.0000e+00\n",
            "Epoch 58/100\n",
            "10/10 [==============================] - 0s 2ms/step - loss: -1983.4867 - accuracy: 0.0000e+00\n",
            "Epoch 59/100\n",
            "10/10 [==============================] - 0s 3ms/step - loss: -2086.7620 - accuracy: 0.0000e+00\n",
            "Epoch 60/100\n",
            "10/10 [==============================] - 0s 2ms/step - loss: -2195.2256 - accuracy: 0.0000e+00\n",
            "Epoch 61/100\n",
            "10/10 [==============================] - 0s 3ms/step - loss: -2307.8477 - accuracy: 0.0000e+00\n",
            "Epoch 62/100\n",
            "10/10 [==============================] - 0s 3ms/step - loss: -2420.3889 - accuracy: 0.0000e+00\n",
            "Epoch 63/100\n",
            "10/10 [==============================] - 0s 2ms/step - loss: -2540.8723 - accuracy: 0.0000e+00\n",
            "Epoch 64/100\n",
            "10/10 [==============================] - 0s 3ms/step - loss: -2662.9075 - accuracy: 0.0000e+00\n",
            "Epoch 65/100\n",
            "10/10 [==============================] - 0s 3ms/step - loss: -2788.8896 - accuracy: 0.0000e+00\n",
            "Epoch 66/100\n",
            "10/10 [==============================] - 0s 2ms/step - loss: -2917.9814 - accuracy: 0.0000e+00\n",
            "Epoch 67/100\n",
            "10/10 [==============================] - 0s 2ms/step - loss: -3050.7041 - accuracy: 0.0000e+00\n",
            "Epoch 68/100\n",
            "10/10 [==============================] - 0s 2ms/step - loss: -3188.0254 - accuracy: 0.0000e+00\n",
            "Epoch 69/100\n",
            "10/10 [==============================] - 0s 4ms/step - loss: -3330.1868 - accuracy: 0.0000e+00\n",
            "Epoch 70/100\n",
            "10/10 [==============================] - 0s 3ms/step - loss: -3475.3088 - accuracy: 0.0000e+00\n",
            "Epoch 71/100\n",
            "10/10 [==============================] - 0s 3ms/step - loss: -3623.8726 - accuracy: 0.0000e+00\n",
            "Epoch 72/100\n",
            "10/10 [==============================] - 0s 3ms/step - loss: -3776.3281 - accuracy: 0.0000e+00\n",
            "Epoch 73/100\n",
            "10/10 [==============================] - 0s 3ms/step - loss: -3932.8259 - accuracy: 0.0000e+00\n",
            "Epoch 74/100\n",
            "10/10 [==============================] - 0s 3ms/step - loss: -4094.4827 - accuracy: 0.0000e+00\n",
            "Epoch 75/100\n",
            "10/10 [==============================] - 0s 2ms/step - loss: -4257.9062 - accuracy: 0.0000e+00\n",
            "Epoch 76/100\n",
            "10/10 [==============================] - 0s 3ms/step - loss: -4428.2256 - accuracy: 0.0000e+00\n",
            "Epoch 77/100\n",
            "10/10 [==============================] - 0s 3ms/step - loss: -4599.2466 - accuracy: 0.0000e+00\n",
            "Epoch 78/100\n",
            "10/10 [==============================] - 0s 3ms/step - loss: -4775.8325 - accuracy: 0.0000e+00\n",
            "Epoch 79/100\n",
            "10/10 [==============================] - 0s 3ms/step - loss: -4959.6030 - accuracy: 0.0000e+00\n",
            "Epoch 80/100\n",
            "10/10 [==============================] - 0s 3ms/step - loss: -5142.3521 - accuracy: 0.0000e+00\n",
            "Epoch 81/100\n",
            "10/10 [==============================] - 0s 3ms/step - loss: -5333.2769 - accuracy: 0.0000e+00\n",
            "Epoch 82/100\n",
            "10/10 [==============================] - 0s 3ms/step - loss: -5528.0190 - accuracy: 0.0000e+00\n",
            "Epoch 83/100\n",
            "10/10 [==============================] - 0s 3ms/step - loss: -5726.0063 - accuracy: 0.0000e+00\n",
            "Epoch 84/100\n",
            "10/10 [==============================] - 0s 3ms/step - loss: -5928.5288 - accuracy: 0.0000e+00\n",
            "Epoch 85/100\n",
            "10/10 [==============================] - 0s 3ms/step - loss: -6136.9971 - accuracy: 0.0000e+00\n",
            "Epoch 86/100\n",
            "10/10 [==============================] - 0s 2ms/step - loss: -6348.7065 - accuracy: 0.0000e+00\n",
            "Epoch 87/100\n",
            "10/10 [==============================] - 0s 3ms/step - loss: -6563.9380 - accuracy: 0.0000e+00\n",
            "Epoch 88/100\n",
            "10/10 [==============================] - 0s 3ms/step - loss: -6786.6831 - accuracy: 0.0000e+00\n",
            "Epoch 89/100\n",
            "10/10 [==============================] - 0s 3ms/step - loss: -7010.3042 - accuracy: 0.0000e+00\n",
            "Epoch 90/100\n",
            "10/10 [==============================] - 0s 2ms/step - loss: -7240.7349 - accuracy: 0.0000e+00\n",
            "Epoch 91/100\n",
            "10/10 [==============================] - 0s 3ms/step - loss: -7474.4629 - accuracy: 0.0000e+00\n",
            "Epoch 92/100\n",
            "10/10 [==============================] - 0s 3ms/step - loss: -7713.4478 - accuracy: 0.0000e+00\n",
            "Epoch 93/100\n",
            "10/10 [==============================] - 0s 3ms/step - loss: -7959.9692 - accuracy: 0.0000e+00\n",
            "Epoch 94/100\n",
            "10/10 [==============================] - 0s 3ms/step - loss: -8204.9561 - accuracy: 0.0000e+00\n",
            "Epoch 95/100\n",
            "10/10 [==============================] - 0s 3ms/step - loss: -8457.9004 - accuracy: 0.0000e+00\n",
            "Epoch 96/100\n",
            "10/10 [==============================] - 0s 3ms/step - loss: -8717.3398 - accuracy: 0.0000e+00\n",
            "Epoch 97/100\n",
            "10/10 [==============================] - 0s 3ms/step - loss: -8978.6270 - accuracy: 0.0000e+00\n",
            "Epoch 98/100\n",
            "10/10 [==============================] - 0s 2ms/step - loss: -9246.4883 - accuracy: 0.0000e+00\n",
            "Epoch 99/100\n",
            "10/10 [==============================] - 0s 2ms/step - loss: -9516.4785 - accuracy: 0.0000e+00\n",
            "Epoch 100/100\n",
            "10/10 [==============================] - 0s 2ms/step - loss: -9794.3457 - accuracy: 0.0000e+00\n"
          ]
        },
        {
          "output_type": "execute_result",
          "data": {
            "text/plain": [
              "<keras.callbacks.History at 0x7fe57dbfddc0>"
            ]
          },
          "metadata": {},
          "execution_count": 72
        }
      ]
    },
    {
      "cell_type": "markdown",
      "source": [
        "# Predict"
      ],
      "metadata": {
        "id": "aKp41kiqo01T"
      }
    },
    {
      "cell_type": "code",
      "source": [
        "neuN.predict(stdSC.transform([[32,84.87882,5,24.96305,121.51726]]))"
      ],
      "metadata": {
        "colab": {
          "base_uri": "https://localhost:8080/"
        },
        "id": "vLAC0yvto0Yw",
        "outputId": "1fd062d9-880d-4058-d41a-1fb4787da841"
      },
      "execution_count": null,
      "outputs": [
        {
          "output_type": "stream",
          "name": "stdout",
          "text": [
            "1/1 [==============================] - 0s 59ms/step\n"
          ]
        },
        {
          "output_type": "execute_result",
          "data": {
            "text/plain": [
              "array([[1.]], dtype=float32)"
            ]
          },
          "metadata": {},
          "execution_count": 73
        }
      ]
    },
    {
      "cell_type": "code",
      "source": [
        "y_pred = neuN.predict(x_test)\n",
        "y_pred = (y_pred >0.5)\n",
        "print(np.concatenate((y_pred.reshape(len(y_pred),1),y_test.reshape(len(y_test),1)),1))"
      ],
      "metadata": {
        "colab": {
          "base_uri": "https://localhost:8080/"
        },
        "id": "sLF4F_8Urr9s",
        "outputId": "4ddbb965-04b0-439f-e28d-1614dd39614f"
      },
      "execution_count": null,
      "outputs": [
        {
          "output_type": "stream",
          "name": "stdout",
          "text": [
            "4/4 [==============================] - 0s 3ms/step\n",
            "[[ 1.  45.3]\n",
            " [ 1.  14.4]\n",
            " [ 1.  46. ]\n",
            " [ 1.  15.6]\n",
            " [ 1.  50.2]\n",
            " [ 1.  38.1]\n",
            " [ 1.  48.5]\n",
            " [ 1.  41.4]\n",
            " [ 1.  51.6]\n",
            " [ 1.  40.1]\n",
            " [ 1.  42. ]\n",
            " [ 1.  42.4]\n",
            " [ 1.  28.5]\n",
            " [ 1.  39.1]\n",
            " [ 1.  53.7]\n",
            " [ 1.  36.8]\n",
            " [ 1.  40.6]\n",
            " [ 1.  55.2]\n",
            " [ 1.  39.3]\n",
            " [ 1.  44.3]\n",
            " [ 1.  53.5]\n",
            " [ 1.  25.3]\n",
            " [ 1.  22.8]\n",
            " [ 1.  51.7]\n",
            " [ 1.  45.5]\n",
            " [ 1.  34.4]\n",
            " [ 1.  31.6]\n",
            " [ 1.  25.9]\n",
            " [ 1.  49.5]\n",
            " [ 1.  24.7]\n",
            " [ 1.  51.7]\n",
            " [ 1.  29.7]\n",
            " [ 1.  45.4]\n",
            " [ 1.  50.5]\n",
            " [ 1.  26.5]\n",
            " [ 1.  30.1]\n",
            " [ 1.  46.1]\n",
            " [ 1.  28.9]\n",
            " [ 1.  54.4]\n",
            " [ 1.  15. ]\n",
            " [ 1.  44.9]\n",
            " [ 1.  29.8]\n",
            " [ 1.  23.6]\n",
            " [ 1.  48. ]\n",
            " [ 1.  16.7]\n",
            " [ 1.  40.9]\n",
            " [ 1.  40.2]\n",
            " [ 1.  12.9]\n",
            " [ 1.  21.3]\n",
            " [ 1.  62.1]\n",
            " [ 1.  63.9]\n",
            " [ 1.  40.3]\n",
            " [ 1.  42.2]\n",
            " [ 1.  19.1]\n",
            " [ 1.  28.4]\n",
            " [ 1.  28.5]\n",
            " [ 1.  60.7]\n",
            " [ 1.  37.5]\n",
            " [ 1.  39.3]\n",
            " [ 1.  28.8]\n",
            " [ 1.  42.3]\n",
            " [ 1.  44.3]\n",
            " [ 1.  42.6]\n",
            " [ 1.  57.4]\n",
            " [ 1.  42.2]\n",
            " [ 1.  25.7]\n",
            " [ 1.  13.2]\n",
            " [ 1.  27. ]\n",
            " [ 1.  56.2]\n",
            " [ 1.  38.3]\n",
            " [ 1.  20.8]\n",
            " [ 1.  43.1]\n",
            " [ 1.  78.3]\n",
            " [ 1.  20.9]\n",
            " [ 1.  32.5]\n",
            " [ 1.  33.4]\n",
            " [ 1.  32.1]\n",
            " [ 1.  19.2]\n",
            " [ 1.  53. ]\n",
            " [ 1.  38.2]\n",
            " [ 1.  46.7]\n",
            " [ 1.  24.6]\n",
            " [ 1.  36.2]\n",
            " [ 1.  23.2]\n",
            " [ 1.  29.3]\n",
            " [ 1.  38.4]\n",
            " [ 1.  37.5]\n",
            " [ 1.  34.3]\n",
            " [ 1.  44.8]\n",
            " [ 1.  54.4]\n",
            " [ 1.  37.9]\n",
            " [ 1.   7.6]\n",
            " [ 1.  29.5]\n",
            " [ 1.  25.3]\n",
            " [ 1.  13.7]\n",
            " [ 1.  30. ]\n",
            " [ 1.  30.8]\n",
            " [ 1.  40.6]\n",
            " [ 1.  20.7]\n",
            " [ 1.  40.8]\n",
            " [ 1.  55.3]\n",
            " [ 1.  40.5]\n",
            " [ 1.  40.8]\n",
            " [ 1.  40.3]]\n"
          ]
        }
      ]
    },
    {
      "cell_type": "code",
      "source": [
        "print(y_test,y_pred)"
      ],
      "metadata": {
        "colab": {
          "base_uri": "https://localhost:8080/"
        },
        "id": "kGFZFraDsFZK",
        "outputId": "691d1cbd-3e40-492b-9a6c-326fe61aa01c"
      },
      "execution_count": null,
      "outputs": [
        {
          "output_type": "stream",
          "name": "stdout",
          "text": [
            "[45.3 14.4 46.  15.6 50.2 38.1 48.5 41.4 51.6 40.1 42.  42.4 28.5 39.1\n",
            " 53.7 36.8 40.6 55.2 39.3 44.3 53.5 25.3 22.8 51.7 45.5 34.4 31.6 25.9\n",
            " 49.5 24.7 51.7 29.7 45.4 50.5 26.5 30.1 46.1 28.9 54.4 15.  44.9 29.8\n",
            " 23.6 48.  16.7 40.9 40.2 12.9 21.3 62.1 63.9 40.3 42.2 19.1 28.4 28.5\n",
            " 60.7 37.5 39.3 28.8 42.3 44.3 42.6 57.4 42.2 25.7 13.2 27.  56.2 38.3\n",
            " 20.8 43.1 78.3 20.9 32.5 33.4 32.1 19.2 53.  38.2 46.7 24.6 36.2 23.2\n",
            " 29.3 38.4 37.5 34.3 44.8 54.4 37.9  7.6 29.5 25.3 13.7 30.  30.8 40.6\n",
            " 20.7 40.8 55.3 40.5 40.8 40.3] [[ True]\n",
            " [ True]\n",
            " [ True]\n",
            " [ True]\n",
            " [ True]\n",
            " [ True]\n",
            " [ True]\n",
            " [ True]\n",
            " [ True]\n",
            " [ True]\n",
            " [ True]\n",
            " [ True]\n",
            " [ True]\n",
            " [ True]\n",
            " [ True]\n",
            " [ True]\n",
            " [ True]\n",
            " [ True]\n",
            " [ True]\n",
            " [ True]\n",
            " [ True]\n",
            " [ True]\n",
            " [ True]\n",
            " [ True]\n",
            " [ True]\n",
            " [ True]\n",
            " [ True]\n",
            " [ True]\n",
            " [ True]\n",
            " [ True]\n",
            " [ True]\n",
            " [ True]\n",
            " [ True]\n",
            " [ True]\n",
            " [ True]\n",
            " [ True]\n",
            " [ True]\n",
            " [ True]\n",
            " [ True]\n",
            " [ True]\n",
            " [ True]\n",
            " [ True]\n",
            " [ True]\n",
            " [ True]\n",
            " [ True]\n",
            " [ True]\n",
            " [ True]\n",
            " [ True]\n",
            " [ True]\n",
            " [ True]\n",
            " [ True]\n",
            " [ True]\n",
            " [ True]\n",
            " [ True]\n",
            " [ True]\n",
            " [ True]\n",
            " [ True]\n",
            " [ True]\n",
            " [ True]\n",
            " [ True]\n",
            " [ True]\n",
            " [ True]\n",
            " [ True]\n",
            " [ True]\n",
            " [ True]\n",
            " [ True]\n",
            " [ True]\n",
            " [ True]\n",
            " [ True]\n",
            " [ True]\n",
            " [ True]\n",
            " [ True]\n",
            " [ True]\n",
            " [ True]\n",
            " [ True]\n",
            " [ True]\n",
            " [ True]\n",
            " [ True]\n",
            " [ True]\n",
            " [ True]\n",
            " [ True]\n",
            " [ True]\n",
            " [ True]\n",
            " [ True]\n",
            " [ True]\n",
            " [ True]\n",
            " [ True]\n",
            " [ True]\n",
            " [ True]\n",
            " [ True]\n",
            " [ True]\n",
            " [ True]\n",
            " [ True]\n",
            " [ True]\n",
            " [ True]\n",
            " [ True]\n",
            " [ True]\n",
            " [ True]\n",
            " [ True]\n",
            " [ True]\n",
            " [ True]\n",
            " [ True]\n",
            " [ True]\n",
            " [ True]]\n"
          ]
        }
      ]
    },
    {
      "cell_type": "code",
      "source": [
        "confMatrix = confusion_matrix(y_test, y_pred)\n",
        "\n",
        "print(confMatrix)"
      ],
      "metadata": {
        "colab": {
          "base_uri": "https://localhost:8080/",
          "height": 336
        },
        "id": "pBxJqiGYr7AC",
        "outputId": "4cb670bd-274c-4d29-927c-d71e58522416"
      },
      "execution_count": null,
      "outputs": [
        {
          "output_type": "error",
          "ename": "ValueError",
          "evalue": "ignored",
          "traceback": [
            "\u001b[0;31m---------------------------------------------------------------------------\u001b[0m",
            "\u001b[0;31mValueError\u001b[0m                                Traceback (most recent call last)",
            "\u001b[0;32m<ipython-input-76-67be99527b87>\u001b[0m in \u001b[0;36m<cell line: 1>\u001b[0;34m()\u001b[0m\n\u001b[0;32m----> 1\u001b[0;31m \u001b[0mconfMatrix\u001b[0m \u001b[0;34m=\u001b[0m \u001b[0mconfusion_matrix\u001b[0m\u001b[0;34m(\u001b[0m\u001b[0my_test\u001b[0m\u001b[0;34m,\u001b[0m \u001b[0my_pred\u001b[0m\u001b[0;34m)\u001b[0m\u001b[0;34m\u001b[0m\u001b[0;34m\u001b[0m\u001b[0m\n\u001b[0m\u001b[1;32m      2\u001b[0m \u001b[0mprint\u001b[0m\u001b[0;34m(\u001b[0m\u001b[0mconfMatrix\u001b[0m\u001b[0;34m)\u001b[0m\u001b[0;34m\u001b[0m\u001b[0;34m\u001b[0m\u001b[0m\n",
            "\u001b[0;32m/usr/local/lib/python3.9/dist-packages/sklearn/metrics/_classification.py\u001b[0m in \u001b[0;36mconfusion_matrix\u001b[0;34m(y_true, y_pred, labels, sample_weight, normalize)\u001b[0m\n\u001b[1;32m    315\u001b[0m     \u001b[0;34m(\u001b[0m\u001b[0;36m0\u001b[0m\u001b[0;34m,\u001b[0m \u001b[0;36m2\u001b[0m\u001b[0;34m,\u001b[0m \u001b[0;36m1\u001b[0m\u001b[0;34m,\u001b[0m \u001b[0;36m1\u001b[0m\u001b[0;34m)\u001b[0m\u001b[0;34m\u001b[0m\u001b[0;34m\u001b[0m\u001b[0m\n\u001b[1;32m    316\u001b[0m     \"\"\"\n\u001b[0;32m--> 317\u001b[0;31m     \u001b[0my_type\u001b[0m\u001b[0;34m,\u001b[0m \u001b[0my_true\u001b[0m\u001b[0;34m,\u001b[0m \u001b[0my_pred\u001b[0m \u001b[0;34m=\u001b[0m \u001b[0m_check_targets\u001b[0m\u001b[0;34m(\u001b[0m\u001b[0my_true\u001b[0m\u001b[0;34m,\u001b[0m \u001b[0my_pred\u001b[0m\u001b[0;34m)\u001b[0m\u001b[0;34m\u001b[0m\u001b[0;34m\u001b[0m\u001b[0m\n\u001b[0m\u001b[1;32m    318\u001b[0m     \u001b[0;32mif\u001b[0m \u001b[0my_type\u001b[0m \u001b[0;32mnot\u001b[0m \u001b[0;32min\u001b[0m \u001b[0;34m(\u001b[0m\u001b[0;34m\"binary\"\u001b[0m\u001b[0;34m,\u001b[0m \u001b[0;34m\"multiclass\"\u001b[0m\u001b[0;34m)\u001b[0m\u001b[0;34m:\u001b[0m\u001b[0;34m\u001b[0m\u001b[0;34m\u001b[0m\u001b[0m\n\u001b[1;32m    319\u001b[0m         \u001b[0;32mraise\u001b[0m \u001b[0mValueError\u001b[0m\u001b[0;34m(\u001b[0m\u001b[0;34m\"%s is not supported\"\u001b[0m \u001b[0;34m%\u001b[0m \u001b[0my_type\u001b[0m\u001b[0;34m)\u001b[0m\u001b[0;34m\u001b[0m\u001b[0;34m\u001b[0m\u001b[0m\n",
            "\u001b[0;32m/usr/local/lib/python3.9/dist-packages/sklearn/metrics/_classification.py\u001b[0m in \u001b[0;36m_check_targets\u001b[0;34m(y_true, y_pred)\u001b[0m\n\u001b[1;32m     93\u001b[0m \u001b[0;34m\u001b[0m\u001b[0m\n\u001b[1;32m     94\u001b[0m     \u001b[0;32mif\u001b[0m \u001b[0mlen\u001b[0m\u001b[0;34m(\u001b[0m\u001b[0my_type\u001b[0m\u001b[0;34m)\u001b[0m \u001b[0;34m>\u001b[0m \u001b[0;36m1\u001b[0m\u001b[0;34m:\u001b[0m\u001b[0;34m\u001b[0m\u001b[0;34m\u001b[0m\u001b[0m\n\u001b[0;32m---> 95\u001b[0;31m         raise ValueError(\n\u001b[0m\u001b[1;32m     96\u001b[0m             \"Classification metrics can't handle a mix of {0} and {1} targets\".format(\n\u001b[1;32m     97\u001b[0m                 \u001b[0mtype_true\u001b[0m\u001b[0;34m,\u001b[0m \u001b[0mtype_pred\u001b[0m\u001b[0;34m\u001b[0m\u001b[0;34m\u001b[0m\u001b[0m\n",
            "\u001b[0;31mValueError\u001b[0m: Classification metrics can't handle a mix of continuous and binary targets"
          ]
        }
      ]
    }
  ]
}